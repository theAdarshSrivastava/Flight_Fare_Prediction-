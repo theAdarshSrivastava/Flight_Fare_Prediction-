{
 "cells": [
  {
   "cell_type": "code",
   "execution_count": 2,
   "metadata": {},
   "outputs": [
    {
     "name": "stdout",
     "output_type": "stream",
     "text": [
      "Collecting flask_cors\n",
      "  Downloading Flask_Cors-3.0.10-py2.py3-none-any.whl (14 kB)\n",
      "Requirement already satisfied: Flask>=0.9 in /home/adarshsrivastava/anaconda3/lib/python3.8/site-packages (from flask_cors) (1.1.2)\n",
      "Requirement already satisfied: Six in /home/adarshsrivastava/anaconda3/lib/python3.8/site-packages (from flask_cors) (1.15.0)\n",
      "Requirement already satisfied: itsdangerous>=0.24 in /home/adarshsrivastava/anaconda3/lib/python3.8/site-packages (from Flask>=0.9->flask_cors) (1.1.0)\n",
      "Requirement already satisfied: click>=5.1 in /home/adarshsrivastava/anaconda3/lib/python3.8/site-packages (from Flask>=0.9->flask_cors) (7.1.2)\n",
      "Requirement already satisfied: Jinja2>=2.10.1 in /home/adarshsrivastava/anaconda3/lib/python3.8/site-packages (from Flask>=0.9->flask_cors) (2.11.2)\n",
      "Requirement already satisfied: Werkzeug>=0.15 in /home/adarshsrivastava/anaconda3/lib/python3.8/site-packages (from Flask>=0.9->flask_cors) (1.0.1)\n",
      "Requirement already satisfied: MarkupSafe>=0.23 in /home/adarshsrivastava/anaconda3/lib/python3.8/site-packages (from Jinja2>=2.10.1->Flask>=0.9->flask_cors) (1.1.1)\n",
      "Installing collected packages: flask-cors\n",
      "Successfully installed flask-cors-3.0.10\n"
     ]
    }
   ],
   "source": [
    "!pip install flask_cors"
   ]
  },
  {
   "cell_type": "code",
   "execution_count": 3,
   "metadata": {},
   "outputs": [],
   "source": [
    "from flask import Flask, request, render_template\n",
    "from flask_cors import cross_origin\n",
    "import sklearn\n",
    "import pandas as pd\n",
    "import pickle"
   ]
  },
  {
   "cell_type": "code",
   "execution_count": 5,
   "metadata": {},
   "outputs": [],
   "source": [
    "app=Flask(__name__)\n",
    "model=pickle.load(open(\"flight_fare_pred.pkl\",\"rb\"))"
   ]
  },
  {
   "cell_type": "code",
   "execution_count": null,
   "metadata": {},
   "outputs": [],
   "source": [
    "@app.route(\"/\")\n",
    "@cross_origin()\n",
    "def home:\n",
    "    return render_template(\"home.html\")\n",
    "\n",
    "@app.route(\"/predict\",methods=[\"GET\",\"POST\"])\n",
    "@cross_origin()\n",
    "def predict:\n",
    "    if request.method==\"POST\":\n",
    "        \n",
    "        \n"
   ]
  },
  {
   "cell_type": "code",
   "execution_count": null,
   "metadata": {},
   "outputs": [],
   "source": []
  }
 ],
 "metadata": {
  "kernelspec": {
   "display_name": "Python 3",
   "language": "python",
   "name": "python3"
  },
  "language_info": {
   "codemirror_mode": {
    "name": "ipython",
    "version": 3
   },
   "file_extension": ".py",
   "mimetype": "text/x-python",
   "name": "python",
   "nbconvert_exporter": "python",
   "pygments_lexer": "ipython3",
   "version": "3.8.5"
  }
 },
 "nbformat": 4,
 "nbformat_minor": 4
}
